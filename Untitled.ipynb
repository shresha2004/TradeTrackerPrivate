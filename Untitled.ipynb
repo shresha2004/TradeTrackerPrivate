{
 "cells": [
  {
   "cell_type": "code",
   "execution_count": null,
   "id": "f3f17a61-8220-4f71-ba43-9bd72f0745c1",
   "metadata": {},
   "outputs": [],
   "source": []
  }
 ],
 "metadata": {
  "kernelspec": {
   "display_name": "trade-ml",
   "language": "python",
   "name": "trade-ml"
  },
  "language_info": {
   "codemirror_mode": {
    "name": "ipython",
    "version": 3
   },
   "file_extension": ".py",
   "mimetype": "text/x-python",
   "name": "python",
   "nbconvert_exporter": "python",
   "pygments_lexer": "ipython3",
   "version": "3.12.3"
  }
 },
 "nbformat": 4,
 "nbformat_minor": 5
}
