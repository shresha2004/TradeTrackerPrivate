{
 "cells": [
  {
   "cell_type": "code",
   "execution_count": 34,
   "id": "806337d4",
   "metadata": {},
   "outputs": [
    {
     "name": "stderr",
     "output_type": "stream",
     "text": [
      "C:\\Users\\shres\\AppData\\Local\\Temp\\ipykernel_22428\\1345289958.py:7: FutureWarning: YF.download() has changed argument auto_adjust default to True\n",
      "  data = yf.download(\"RELIANCE.NS\", period=\"2mo\", interval=\"1d\")\n",
      "[*********************100%***********************]  1 of 1 completed"
     ]
    },
    {
     "name": "stdout",
     "output_type": "stream",
     "text": [
      "Price             Close     RSI_14       SMA_20\n",
      "Date                                           \n",
      "2025-07-07  1541.500000  71.519261  1473.775018\n",
      "2025-07-08  1537.599976  69.756186  1478.730017\n",
      "2025-07-09  1519.000000  61.916739  1482.235016\n",
      "2025-07-10  1517.199951  61.199919  1486.015015\n",
      "2025-07-11  1495.199951  53.107457  1489.380011\n"
     ]
    },
    {
     "name": "stderr",
     "output_type": "stream",
     "text": [
      "\n"
     ]
    }
   ],
   "source": [
    "import yfinance as yf\n",
    "import pandas_ta as ta\n",
    "import joblib\n",
    "import shutil\n",
    "\n",
    "# Download data and immediately flatten columns\n",
    "data = yf.download(\"RELIANCE.NS\", period=\"2mo\", interval=\"1d\")\n",
    "data.columns = data.columns.get_level_values(0)  # Keep only the first level\n",
    "data.drop(index=data.index[-1],inplace=True)\n",
    "# Now pandas_ta will work normally\n",
    "data.ta.rsi(length=14, append=True)\n",
    "data.ta.sma(length=20, append=True)\n",
    "\n",
    "data.dropna(inplace=True)\n",
    "print(data[['Close', 'RSI_14', 'SMA_20']].tail())"
   ]
  },
  {
   "cell_type": "code",
   "execution_count": null,
   "id": "6e95e236",
   "metadata": {},
   "outputs": [],
   "source": [
    "data['Future_Close'] = data['Close'].shift(-5)\n",
    "data['Future_Return_5d'] = ((data['Future_Close'] - data['Close']) / data['Close']) * 100"
   ]
  },
  {
   "cell_type": "code",
   "execution_count": 36,
   "id": "23a287a4",
   "metadata": {},
   "outputs": [
    {
     "name": "stdout",
     "output_type": "stream",
     "text": [
      "Price        Close  Future_Close  Future_Return_5d\n",
      "9      1456.800049   1500.599976          3.006585\n",
      "10     1450.800049   1528.400024          5.348771\n",
      "11     1467.300049   1518.800049          3.509848\n",
      "12     1495.300049   1517.800049          1.504715\n",
      "13     1515.400024   1527.300049          0.785273\n",
      "14     1500.599976   1541.500000          2.725578\n",
      "15     1528.400024   1537.599976          0.601933\n",
      "16     1518.800049   1519.000000          0.013165\n",
      "17     1517.800049   1517.199951         -0.039537\n",
      "18     1527.300049   1495.199951         -2.101755\n"
     ]
    }
   ],
   "source": [
    "data['Future_Close'] = data['Close'].shift(-5)\n",
    "data['Future_Return_5d'] = ((data['Future_Close'] - data['Close']) / data['Close']) * 100\n",
    "data.dropna(inplace=True)\n",
    "data.reset_index(drop=True,inplace=True)\n",
    "print(data[['Close','Future_Close','Future_Return_5d']].tail(10))"
   ]
  },
  {
   "cell_type": "code",
   "execution_count": 37,
   "id": "c49955d7",
   "metadata": {},
   "outputs": [],
   "source": [
    "#Selecting features(X) and target(y)\n",
    "features = ['RSI_14','SMA_20']\n",
    "X=data[features]\n",
    "y=data['Future_Return_5d']\n"
   ]
  },
  {
   "cell_type": "code",
   "execution_count": 38,
   "id": "45e775e9",
   "metadata": {},
   "outputs": [],
   "source": [
    "from sklearn.ensemble import RandomForestRegressor\n",
    "from sklearn.model_selection import train_test_split\n",
    "from sklearn.metrics import mean_absolute_error"
   ]
  },
  {
   "cell_type": "code",
   "execution_count": 39,
   "id": "d9b7ed81",
   "metadata": {},
   "outputs": [
    {
     "name": "stdout",
     "output_type": "stream",
     "text": [
      "[1.16932305 2.95234934 3.37819964 1.97860579] 0    -0.507476\n",
      "5     1.369487\n",
      "11    3.509848\n",
      "1    -1.297539\n",
      "Name: Future_Return_5d, dtype: float64\n",
      "MAE: 1.6668638210289435\n"
     ]
    }
   ],
   "source": [
    "X_train,X_test,y_train,y_test = train_test_split(X,y,test_size=0.2,random_state=42)\n",
    "model = RandomForestRegressor(n_estimators=100,random_state=42)\n",
    "model.fit(X_train,y_train)\n",
    "\n",
    "preds = model.predict(X_test)\n",
    "print(preds,y_test)\n",
    "\n",
    "mae = mean_absolute_error(y_test,preds)\n",
    "print(\"MAE:\",mae)"
   ]
  },
  {
   "cell_type": "code",
   "execution_count": 40,
   "id": "e60d8068",
   "metadata": {},
   "outputs": [
    {
     "data": {
      "text/plain": [
       "'backend/ml/pnl_model.pkl'"
      ]
     },
     "execution_count": 40,
     "metadata": {},
     "output_type": "execute_result"
    }
   ],
   "source": [
    "joblib.dump(model, 'pnl_model.pkl')\n",
    "shutil.move('pnl_model.pkl','backend/ml/pnl_model.pkl')"
   ]
  },
  {
   "cell_type": "code",
   "execution_count": null,
   "id": "53422291",
   "metadata": {},
   "outputs": [],
   "source": []
  }
 ],
 "metadata": {
  "kernelspec": {
   "display_name": "env",
   "language": "python",
   "name": "python3"
  },
  "language_info": {
   "codemirror_mode": {
    "name": "ipython",
    "version": 3
   },
   "file_extension": ".py",
   "mimetype": "text/x-python",
   "name": "python",
   "nbconvert_exporter": "python",
   "pygments_lexer": "ipython3",
   "version": "3.11.13"
  }
 },
 "nbformat": 4,
 "nbformat_minor": 5
}
